{
 "cells": [
  {
   "cell_type": "markdown",
   "metadata": {},
   "source": [
    "# Scrapping Formula1 For Race Results Using Python.\n",
    "\n",
    "\n",
    "![banner-image](https://i.imgur.com/ay2hbsc.jpg)\n",
    "\n",
    "[Formula One](https://www.formula1.com/) (also known as Formula 1 or F1) is the highest class of international racing for open-wheel single-seater formula racing cars sanctioned by the Fédération Internationale de l'Automobile (FIA). The World Drivers' Championship, which became the FIA Formula One World Championship in 1981, has been one of the premier forms of racing around the world since its inaugural season in 1950. The word formula in the name refers to the set of rules to which all participants' cars must conform. A Formula One season consists of a series of races, known as Grands Prix, which take place worldwide on both purpose-built circuits and closed public roads.\n",
    "\n",
    "The page https://www.formula1.com/en/results.html/drivers.html provides details of race results. In this project we'll retrieve race results of all the races with respect to year using _web scrapping_: the process of extracting information from a website in an automated fashion using code. we'll use the python libraries [requests](https://pypi.org/project/requests/) and [BeautifulSoup](https://pypi.org/project/beautifulsoup4/) to scrape data from this page\n",
    "\n",
    "\n",
    "Here's the project outline and the steps we'll fallow:\n",
    "1. Download the web page using `requests` library  \n",
    "2. Parse the HTML source page using `BeautifulSoup`\n",
    "3. Write functions to scrape data such as Location of race, Race date, Winner name, Formula1 car, Race timing etc.. \n",
    "4. Store the scrapped data into a dictionary\n",
    "5. From the dictionary create a data frame using `Pandas`\n",
    "6. Save the data into CSV file\n",
    "\n",
    "\n",
    "By the end of the project we'll create a CSV file in fallowing format:\n",
    "\n",
    "```\n",
    "GrandPrix_location, Race_date, winner, car, No_of_laps, Race_finish_time, Year\n",
    "Brazil,\t07 Nov 2010, Sebastian Vettel, RBR Renault, 71, 1:33:11.803,2010\n",
    "Abu Dhabi, 14 Nov 2010, Sebastian Vettel, RBR Renault, 55, 1:39:36.837, 2010\n",
    "...\n",
    "...\n",
    "```"
   ]
  },
  {
   "cell_type": "code",
   "execution_count": 7,
   "metadata": {},
   "outputs": [],
   "source": [
    "!pip install jovian --upgrade --quiet"
   ]
  },
  {
   "cell_type": "code",
   "execution_count": 8,
   "metadata": {},
   "outputs": [],
   "source": [
    "import jovian"
   ]
  },
  {
   "cell_type": "code",
   "execution_count": 9,
   "metadata": {},
   "outputs": [],
   "source": [
    "import requests\n",
    "from bs4 import BeautifulSoup\n",
    "\n",
    "# importing request library, and install BeautifulSoup\n",
    "\n",
    "def get_race_results(year):\n",
    "    url = 'https://www.formula1.com/en/results.html/' + year + '/races.html'\n",
    "    response = requests.get(url)\n",
    "    # check if the webpage is valid\n",
    "    if response.status_code != 200:\n",
    "        raise Exception('Failed to load page {}'.format(url))\n",
    "    #parse through beatifulsoup\n",
    "    doc = BeautifulSoup(response.text, 'html.parser')\n",
    "    return doc"
   ]
  },
  {
   "cell_type": "code",
   "execution_count": 10,
   "metadata": {},
   "outputs": [
    {
     "name": "stdout",
     "output_type": "stream",
     "text": [
      "Eneter year 2022\n"
     ]
    }
   ],
   "source": [
    "year = input('Eneter year ')"
   ]
  },
  {
   "cell_type": "code",
   "execution_count": 11,
   "metadata": {},
   "outputs": [],
   "source": [
    "doc = get_race_results(year)"
   ]
  },
  {
   "cell_type": "code",
   "execution_count": 12,
   "metadata": {},
   "outputs": [
    {
     "data": {
      "text/plain": [
       "'2022 RACE RESULTS'"
      ]
     },
     "execution_count": 12,
     "metadata": {},
     "output_type": "execute_result"
    }
   ],
   "source": [
    "doc.title.text.strip()"
   ]
  },
  {
   "cell_type": "markdown",
   "metadata": {},
   "source": [
    "## Defining helper function to extract elements\n",
    "\n",
    "Observe the screenshot below, `class` of the element is `<class:\"dark bold ArchiveLink>`. and if we can extract this class and store it in a list\n",
    "\n",
    "![](https://i.imgur.com/TYGpvlc.png)"
   ]
  },
  {
   "cell_type": "markdown",
   "metadata": {},
   "source": [
    "#### Defining a function to extract element and looping it to extract for all element referred to the selection class"
   ]
  },
  {
   "cell_type": "code",
   "execution_count": 13,
   "metadata": {},
   "outputs": [],
   "source": [
    "def get_grand_prix(doc):\n",
    "    selection_class = 'dark bold ArchiveLink'\n",
    "    gp_tags = doc.find_all('a', {'class' : selection_class})\n",
    "    gp_titles = []\n",
    "    for tag in gp_tags:\n",
    "        gp_titles.append(tag.text.strip())\n",
    "    return gp_titles"
   ]
  },
  {
   "cell_type": "code",
   "execution_count": 14,
   "metadata": {},
   "outputs": [
    {
     "data": {
      "text/plain": [
       "20"
      ]
     },
     "execution_count": 14,
     "metadata": {},
     "output_type": "execute_result"
    }
   ],
   "source": [
    "len(get_grand_prix(doc)) # check length to confirm with official website"
   ]
  },
  {
   "cell_type": "code",
   "execution_count": 15,
   "metadata": {},
   "outputs": [],
   "source": [
    "gp_place = get_grand_prix(doc)"
   ]
  },
  {
   "cell_type": "code",
   "execution_count": 16,
   "metadata": {},
   "outputs": [
    {
     "data": {
      "text/plain": [
       "['Bahrain',\n",
       " 'Saudi Arabia',\n",
       " 'Australia',\n",
       " 'Emilia Romagna',\n",
       " 'Miami',\n",
       " 'Spain',\n",
       " 'Monaco',\n",
       " 'Azerbaijan',\n",
       " 'Canada',\n",
       " 'Great Britain',\n",
       " 'Austria',\n",
       " 'France',\n",
       " 'Hungary',\n",
       " 'Belgium',\n",
       " 'Netherlands',\n",
       " 'Italy',\n",
       " 'Singapore',\n",
       " 'Japan',\n",
       " 'United States',\n",
       " 'Mexico']"
      ]
     },
     "execution_count": 16,
     "metadata": {},
     "output_type": "execute_result"
    }
   ],
   "source": [
    "gp_place"
   ]
  },
  {
   "cell_type": "markdown",
   "metadata": {},
   "source": [
    "#### Define similar function to extract date.`class` of thr date element is `<class=\"dark hide-for-mobile>` \n",
    "    \n",
    " ![](https://i.imgur.com/FrBGSeA.png)"
   ]
  },
  {
   "cell_type": "code",
   "execution_count": 17,
   "metadata": {},
   "outputs": [],
   "source": [
    "def get_grand_prix_date(doc):\n",
    "    selection_class = 'dark hide-for-mobile'\n",
    "    gp_date_tags = doc.find_all('td', {'class' : selection_class})\n",
    "    gp_dates = []\n",
    "    for tag in gp_date_tags:\n",
    "        gp_dates.append(tag.text.strip())\n",
    "    return gp_dates"
   ]
  },
  {
   "cell_type": "code",
   "execution_count": 18,
   "metadata": {},
   "outputs": [],
   "source": [
    "gp_date = get_grand_prix_date(doc)"
   ]
  },
  {
   "cell_type": "code",
   "execution_count": 19,
   "metadata": {},
   "outputs": [
    {
     "data": {
      "text/plain": [
       "['20 Mar 2022',\n",
       " '27 Mar 2022',\n",
       " '10 Apr 2022',\n",
       " '24 Apr 2022',\n",
       " '08 May 2022',\n",
       " '22 May 2022',\n",
       " '29 May 2022',\n",
       " '12 Jun 2022',\n",
       " '19 Jun 2022',\n",
       " '03 Jul 2022',\n",
       " '10 Jul 2022',\n",
       " '24 Jul 2022',\n",
       " '31 Jul 2022',\n",
       " '28 Aug 2022',\n",
       " '04 Sep 2022',\n",
       " '11 Sep 2022',\n",
       " '02 Oct 2022',\n",
       " '09 Oct 2022',\n",
       " '23 Oct 2022',\n",
       " '30 Oct 2022']"
      ]
     },
     "execution_count": 19,
     "metadata": {},
     "output_type": "execute_result"
    }
   ],
   "source": [
    "gp_date"
   ]
  },
  {
   "cell_type": "markdown",
   "metadata": {},
   "source": [
    "* Here it is little tricky...!\n",
    "\n",
    "Driver name have two parts `first name` and `last name` with class `<class='hide-for-tablet'>` and `<class_='hide-for-mobile'>` respectively. Lets extract each element individually.\n",
    "\n",
    "Here for `Lewis Hamilton` first name and last name can be extracted individually and combined using *list concatenation*\n",
    "\n",
    "![](https://i.imgur.com/YfaUr7r.png)"
   ]
  },
  {
   "cell_type": "code",
   "execution_count": 20,
   "metadata": {},
   "outputs": [],
   "source": [
    "def get_grand_prix_winner(doc):\n",
    "    selection_class = 'hide-for-tablet'\n",
    "    gp_winner_tags1 = doc.find_all('span', {'class' : selection_class})\n",
    "    gp_winner_tags2 = doc.find_all('span', class_='hide-for-mobile')\n",
    "    \n",
    "    gp_winners = []\n",
    "    for i in range(len(gp_winner_tags1)):                               #here we are combining using list concatenation\n",
    "        gp_winners.append(gp_winner_tags1[i].text + \" \" + gp_winner_tags2[i].text)  \n",
    "        \n",
    "    return gp_winners"
   ]
  },
  {
   "cell_type": "code",
   "execution_count": 21,
   "metadata": {},
   "outputs": [],
   "source": [
    "gp_winner = get_grand_prix_winner(doc)"
   ]
  },
  {
   "cell_type": "code",
   "execution_count": 22,
   "metadata": {},
   "outputs": [
    {
     "data": {
      "text/plain": [
       "['Charles Leclerc',\n",
       " 'Max Verstappen',\n",
       " 'Charles Leclerc',\n",
       " 'Max Verstappen',\n",
       " 'Max Verstappen',\n",
       " 'Max Verstappen',\n",
       " 'Sergio Perez',\n",
       " 'Max Verstappen',\n",
       " 'Max Verstappen',\n",
       " 'Carlos Sainz',\n",
       " 'Charles Leclerc',\n",
       " 'Max Verstappen',\n",
       " 'Max Verstappen',\n",
       " 'Max Verstappen',\n",
       " 'Max Verstappen',\n",
       " 'Max Verstappen',\n",
       " 'Sergio Perez',\n",
       " 'Max Verstappen',\n",
       " 'Max Verstappen',\n",
       " 'Max Verstappen']"
      ]
     },
     "execution_count": 22,
     "metadata": {},
     "output_type": "execute_result"
    }
   ],
   "source": [
    "gp_winner"
   ]
  },
  {
   "cell_type": "markdown",
   "metadata": {},
   "source": [
    "#### Defining a function to get car details\n",
    "\n",
    "Here the selection class is `<class=\"semi-bold uppercase> \"`\n",
    "\n",
    "![](https://i.imgur.com/EC82udW.png)"
   ]
  },
  {
   "cell_type": "code",
   "execution_count": 23,
   "metadata": {},
   "outputs": [],
   "source": [
    "def get_grand_prix_car(doc):\n",
    "    selection_class = 'semi-bold uppercase'\n",
    "    gp_car_tags = doc.find_all('td', {'class' : selection_class})\n",
    "    gp_cars = []\n",
    "    for tag in gp_car_tags:\n",
    "        gp_cars.append(tag.text.strip())\n",
    "    return gp_cars"
   ]
  },
  {
   "cell_type": "code",
   "execution_count": 24,
   "metadata": {},
   "outputs": [],
   "source": [
    "gp_cars_name = get_grand_prix_car(doc)"
   ]
  },
  {
   "cell_type": "code",
   "execution_count": 25,
   "metadata": {},
   "outputs": [
    {
     "data": {
      "text/plain": [
       "['Ferrari',\n",
       " 'Red Bull Racing RBPT',\n",
       " 'Ferrari',\n",
       " 'Red Bull Racing RBPT',\n",
       " 'Red Bull Racing RBPT',\n",
       " 'Red Bull Racing RBPT',\n",
       " 'Red Bull Racing RBPT',\n",
       " 'Red Bull Racing RBPT',\n",
       " 'Red Bull Racing RBPT',\n",
       " 'Ferrari',\n",
       " 'Ferrari',\n",
       " 'Red Bull Racing RBPT',\n",
       " 'Red Bull Racing RBPT',\n",
       " 'Red Bull Racing RBPT',\n",
       " 'Red Bull Racing RBPT',\n",
       " 'Red Bull Racing RBPT',\n",
       " 'Red Bull Racing RBPT',\n",
       " 'Red Bull Racing RBPT',\n",
       " 'Red Bull Racing RBPT',\n",
       " 'Red Bull Racing RBPT']"
      ]
     },
     "execution_count": 25,
     "metadata": {},
     "output_type": "execute_result"
    }
   ],
   "source": [
    "gp_cars_name"
   ]
  },
  {
   "cell_type": "markdown",
   "metadata": {},
   "source": [
    "#### Defining a function for Number of Laps\n",
    "\n",
    "![](https://i.imgur.com/EC82udW.png)"
   ]
  },
  {
   "cell_type": "code",
   "execution_count": 26,
   "metadata": {},
   "outputs": [],
   "source": [
    "def get_grand_prix_laps(doc):\n",
    "    selection_class = 'bold hide-for-mobile'\n",
    "    gp_lap_tags = doc.find_all('td', {'class' : selection_class})\n",
    "    gp_laps = []\n",
    "    for tag in gp_lap_tags:\n",
    "        gp_laps.append(tag.text.strip())\n",
    "    return gp_laps"
   ]
  },
  {
   "cell_type": "code",
   "execution_count": 27,
   "metadata": {},
   "outputs": [],
   "source": [
    "gp_no_of_laps = get_grand_prix_laps(doc)"
   ]
  },
  {
   "cell_type": "code",
   "execution_count": 28,
   "metadata": {},
   "outputs": [
    {
     "data": {
      "text/plain": [
       "['57',\n",
       " '50',\n",
       " '58',\n",
       " '63',\n",
       " '57',\n",
       " '66',\n",
       " '64',\n",
       " '51',\n",
       " '70',\n",
       " '52',\n",
       " '71',\n",
       " '53',\n",
       " '70',\n",
       " '44',\n",
       " '72',\n",
       " '53',\n",
       " '59',\n",
       " '28',\n",
       " '56',\n",
       " '71']"
      ]
     },
     "execution_count": 28,
     "metadata": {},
     "output_type": "execute_result"
    }
   ],
   "source": [
    "gp_no_of_laps"
   ]
  },
  {
   "cell_type": "markdown",
   "metadata": {},
   "source": [
    "#### Defining a helper function to Race finish time\n",
    "\n",
    "![](https://i.imgur.com/EC82udW.png)"
   ]
  },
  {
   "cell_type": "code",
   "execution_count": 29,
   "metadata": {},
   "outputs": [],
   "source": [
    "def get_grand_prix_time(doc):\n",
    "    selection_class = 'dark bold hide-for-tablet'\n",
    "    gp_time_tags = doc.find_all('td', {'class' : selection_class})\n",
    "    gp_finish_time = []\n",
    "    for tag in gp_time_tags:\n",
    "        gp_finish_time.append(tag.text.strip())\n",
    "    return gp_finish_time"
   ]
  },
  {
   "cell_type": "code",
   "execution_count": 30,
   "metadata": {},
   "outputs": [],
   "source": [
    "gp_finish_time = get_grand_prix_time(doc)"
   ]
  },
  {
   "cell_type": "code",
   "execution_count": 31,
   "metadata": {},
   "outputs": [
    {
     "data": {
      "text/plain": [
       "['1:37:33.584',\n",
       " '1:24:19.293',\n",
       " '1:27:46.548',\n",
       " '1:32:07.986',\n",
       " '1:34:24.258',\n",
       " '1:37:20.475',\n",
       " '1:56:30.265',\n",
       " '1:34:05.941',\n",
       " '1:36:21.757',\n",
       " '2:17:50.311',\n",
       " '1:24:24.312',\n",
       " '1:30:02.112',\n",
       " '1:39:35.912',\n",
       " '1:25:52.894',\n",
       " '1:36:42.773',\n",
       " '1:20:27.511',\n",
       " '2:02:20.238',\n",
       " '3:01:44.004',\n",
       " '1:42:11.687',\n",
       " '1:38:36.729']"
      ]
     },
     "execution_count": 31,
     "metadata": {},
     "output_type": "execute_result"
    }
   ],
   "source": [
    "gp_finish_time"
   ]
  },
  {
   "cell_type": "markdown",
   "metadata": {},
   "source": [
    "## Main function to extract all data\n",
    "\n",
    "* So till now we have extracted data for a particular year, now using all the helper function will define a function `get_all_data` which will extract all the element required and store in a dictionary\n",
    "\n"
   ]
  },
  {
   "cell_type": "code",
   "execution_count": 32,
   "metadata": {},
   "outputs": [],
   "source": [
    "def get_all_data(dates):\n",
    "    dict1 = {\n",
    "    'Race location' : [],                               # Create empty list to stored excrating data from loop\n",
    "    'Race date' : [],\n",
    "    'Race winner' : [],\n",
    "    'Race car' : [],\n",
    "    'Race lap' : [],\n",
    "    'Race time' : []\n",
    "    }\n",
    "    \n",
    "    for date in dates:                              # looping each input year from list and scraping all the pages \n",
    "        doc = get_race_results(date)                # Check for website validation and downolad to 'doc'\n",
    "        dict1['Race location'].extend(get_grand_prix(doc))        \n",
    "        dict1['Race date'].extend(get_grand_prix_date(doc))\n",
    "        dict1['Race winner'].extend(get_grand_prix_winner(doc))\n",
    "        dict1['Race car'].extend(get_grand_prix_car(doc))\n",
    "        dict1['Race lap'].extend(get_grand_prix_laps(doc))\n",
    "        dict1['Race time'].extend(get_grand_prix_time(doc))\n",
    "        \n",
    "\n",
    "    return dict1"
   ]
  },
  {
   "cell_type": "markdown",
   "metadata": {},
   "source": [
    "- Input all the year as a list of string since the website is dynamically changing for every year. "
   ]
  },
  {
   "cell_type": "code",
   "execution_count": 33,
   "metadata": {},
   "outputs": [],
   "source": [
    "date_range = []\n",
    "for i in range(1950, 2023):\n",
    "    date_range.append(i)\n",
    "dates = map(str, date_range)"
   ]
  },
  {
   "cell_type": "code",
   "execution_count": 34,
   "metadata": {},
   "outputs": [],
   "source": [
    "race_data = get_all_data(dates)"
   ]
  },
  {
   "cell_type": "markdown",
   "metadata": {},
   "source": [
    "## Dataframe using pandas\n",
    "\n",
    "* Install pandas library and import\n",
    "* Create a DataFrame using pandas "
   ]
  },
  {
   "cell_type": "code",
   "execution_count": 35,
   "metadata": {},
   "outputs": [],
   "source": [
    "!pip install pandas --upgrade --quiet"
   ]
  },
  {
   "cell_type": "code",
   "execution_count": 36,
   "metadata": {},
   "outputs": [],
   "source": [
    "import pandas as pd"
   ]
  },
  {
   "cell_type": "code",
   "execution_count": 37,
   "metadata": {},
   "outputs": [],
   "source": [
    "df = pd.DataFrame(race_data)"
   ]
  },
  {
   "cell_type": "markdown",
   "metadata": {},
   "source": [
    "* From date using pandas lets extract only year from 'Race Date' using pandas date_time function"
   ]
  },
  {
   "cell_type": "code",
   "execution_count": 39,
   "metadata": {},
   "outputs": [],
   "source": [
    "df['year'] = pd.to_datetime(df['Race date']).dt.year"
   ]
  },
  {
   "cell_type": "code",
   "execution_count": 40,
   "metadata": {},
   "outputs": [
    {
     "data": {
      "text/html": [
       "<div>\n",
       "<style scoped>\n",
       "    .dataframe tbody tr th:only-of-type {\n",
       "        vertical-align: middle;\n",
       "    }\n",
       "\n",
       "    .dataframe tbody tr th {\n",
       "        vertical-align: top;\n",
       "    }\n",
       "\n",
       "    .dataframe thead th {\n",
       "        text-align: right;\n",
       "    }\n",
       "</style>\n",
       "<table border=\"1\" class=\"dataframe\">\n",
       "  <thead>\n",
       "    <tr style=\"text-align: right;\">\n",
       "      <th></th>\n",
       "      <th>Race location</th>\n",
       "      <th>Race date</th>\n",
       "      <th>Race winner</th>\n",
       "      <th>Race car</th>\n",
       "      <th>Race lap</th>\n",
       "      <th>Race time</th>\n",
       "      <th>year</th>\n",
       "    </tr>\n",
       "  </thead>\n",
       "  <tbody>\n",
       "    <tr>\n",
       "      <th>0</th>\n",
       "      <td>Great Britain</td>\n",
       "      <td>13 May 1950</td>\n",
       "      <td>Nino Farina</td>\n",
       "      <td>Alfa Romeo</td>\n",
       "      <td>70</td>\n",
       "      <td>2:13:23.600</td>\n",
       "      <td>1950</td>\n",
       "    </tr>\n",
       "    <tr>\n",
       "      <th>1</th>\n",
       "      <td>Monaco</td>\n",
       "      <td>21 May 1950</td>\n",
       "      <td>Juan Manuel Fangio</td>\n",
       "      <td>Alfa Romeo</td>\n",
       "      <td>100</td>\n",
       "      <td>3:13:18.700</td>\n",
       "      <td>1950</td>\n",
       "    </tr>\n",
       "    <tr>\n",
       "      <th>2</th>\n",
       "      <td>Indianapolis 500</td>\n",
       "      <td>30 May 1950</td>\n",
       "      <td>Johnnie  Parsons</td>\n",
       "      <td>Kurtis Kraft Offenhauser</td>\n",
       "      <td>138</td>\n",
       "      <td>2:46:55.970</td>\n",
       "      <td>1950</td>\n",
       "    </tr>\n",
       "    <tr>\n",
       "      <th>3</th>\n",
       "      <td>Switzerland</td>\n",
       "      <td>04 Jun 1950</td>\n",
       "      <td>Nino Farina</td>\n",
       "      <td>Alfa Romeo</td>\n",
       "      <td>42</td>\n",
       "      <td>2:02:53.700</td>\n",
       "      <td>1950</td>\n",
       "    </tr>\n",
       "    <tr>\n",
       "      <th>4</th>\n",
       "      <td>Belgium</td>\n",
       "      <td>18 Jun 1950</td>\n",
       "      <td>Juan Manuel Fangio</td>\n",
       "      <td>Alfa Romeo</td>\n",
       "      <td>35</td>\n",
       "      <td>2:47:26.000</td>\n",
       "      <td>1950</td>\n",
       "    </tr>\n",
       "    <tr>\n",
       "      <th>...</th>\n",
       "      <td>...</td>\n",
       "      <td>...</td>\n",
       "      <td>...</td>\n",
       "      <td>...</td>\n",
       "      <td>...</td>\n",
       "      <td>...</td>\n",
       "      <td>...</td>\n",
       "    </tr>\n",
       "    <tr>\n",
       "      <th>1075</th>\n",
       "      <td>Italy</td>\n",
       "      <td>11 Sep 2022</td>\n",
       "      <td>Max Verstappen</td>\n",
       "      <td>Red Bull Racing RBPT</td>\n",
       "      <td>53</td>\n",
       "      <td>1:20:27.511</td>\n",
       "      <td>2022</td>\n",
       "    </tr>\n",
       "    <tr>\n",
       "      <th>1076</th>\n",
       "      <td>Singapore</td>\n",
       "      <td>02 Oct 2022</td>\n",
       "      <td>Sergio Perez</td>\n",
       "      <td>Red Bull Racing RBPT</td>\n",
       "      <td>59</td>\n",
       "      <td>2:02:20.238</td>\n",
       "      <td>2022</td>\n",
       "    </tr>\n",
       "    <tr>\n",
       "      <th>1077</th>\n",
       "      <td>Japan</td>\n",
       "      <td>09 Oct 2022</td>\n",
       "      <td>Max Verstappen</td>\n",
       "      <td>Red Bull Racing RBPT</td>\n",
       "      <td>28</td>\n",
       "      <td>3:01:44.004</td>\n",
       "      <td>2022</td>\n",
       "    </tr>\n",
       "    <tr>\n",
       "      <th>1078</th>\n",
       "      <td>United States</td>\n",
       "      <td>23 Oct 2022</td>\n",
       "      <td>Max Verstappen</td>\n",
       "      <td>Red Bull Racing RBPT</td>\n",
       "      <td>56</td>\n",
       "      <td>1:42:11.687</td>\n",
       "      <td>2022</td>\n",
       "    </tr>\n",
       "    <tr>\n",
       "      <th>1079</th>\n",
       "      <td>Mexico</td>\n",
       "      <td>30 Oct 2022</td>\n",
       "      <td>Max Verstappen</td>\n",
       "      <td>Red Bull Racing RBPT</td>\n",
       "      <td>71</td>\n",
       "      <td>1:38:36.729</td>\n",
       "      <td>2022</td>\n",
       "    </tr>\n",
       "  </tbody>\n",
       "</table>\n",
       "<p>1080 rows × 7 columns</p>\n",
       "</div>"
      ],
      "text/plain": [
       "         Race location    Race date         Race winner  \\\n",
       "0        Great Britain  13 May 1950         Nino Farina   \n",
       "1               Monaco  21 May 1950  Juan Manuel Fangio   \n",
       "2     Indianapolis 500  30 May 1950    Johnnie  Parsons   \n",
       "3          Switzerland  04 Jun 1950         Nino Farina   \n",
       "4              Belgium  18 Jun 1950  Juan Manuel Fangio   \n",
       "...                ...          ...                 ...   \n",
       "1075             Italy  11 Sep 2022      Max Verstappen   \n",
       "1076         Singapore  02 Oct 2022        Sergio Perez   \n",
       "1077             Japan  09 Oct 2022      Max Verstappen   \n",
       "1078     United States  23 Oct 2022      Max Verstappen   \n",
       "1079            Mexico  30 Oct 2022      Max Verstappen   \n",
       "\n",
       "                      Race car Race lap    Race time  year  \n",
       "0                   Alfa Romeo       70  2:13:23.600  1950  \n",
       "1                   Alfa Romeo      100  3:13:18.700  1950  \n",
       "2     Kurtis Kraft Offenhauser      138  2:46:55.970  1950  \n",
       "3                   Alfa Romeo       42  2:02:53.700  1950  \n",
       "4                   Alfa Romeo       35  2:47:26.000  1950  \n",
       "...                        ...      ...          ...   ...  \n",
       "1075      Red Bull Racing RBPT       53  1:20:27.511  2022  \n",
       "1076      Red Bull Racing RBPT       59  2:02:20.238  2022  \n",
       "1077      Red Bull Racing RBPT       28  3:01:44.004  2022  \n",
       "1078      Red Bull Racing RBPT       56  1:42:11.687  2022  \n",
       "1079      Red Bull Racing RBPT       71  1:38:36.729  2022  \n",
       "\n",
       "[1080 rows x 7 columns]"
      ]
     },
     "execution_count": 40,
     "metadata": {},
     "output_type": "execute_result"
    }
   ],
   "source": [
    "df"
   ]
  },
  {
   "cell_type": "markdown",
   "metadata": {},
   "source": [
    "* Writing the dataFrame into a CSV file"
   ]
  },
  {
   "cell_type": "code",
   "execution_count": 41,
   "metadata": {},
   "outputs": [],
   "source": [
    "df.to_csv('Formula1 Race Results.csv', index=False)"
   ]
  },
  {
   "cell_type": "code",
   "execution_count": 42,
   "metadata": {},
   "outputs": [
    {
     "data": {
      "application/javascript": [
       "window.require && require([\"base/js/namespace\"],function(Jupyter){Jupyter.notebook.save_checkpoint()})"
      ],
      "text/plain": [
       "<IPython.core.display.Javascript object>"
      ]
     },
     "metadata": {},
     "output_type": "display_data"
    },
    {
     "name": "stdout",
     "output_type": "stream",
     "text": [
      "[jovian] Updating notebook \"trineshnk/f1-project\" on https://jovian.ai\u001b[0m\n",
      "[jovian] Uploading additional files...\u001b[0m\n",
      "[jovian] Committed successfully! https://jovian.ai/trineshnk/f1-project\u001b[0m\n"
     ]
    },
    {
     "data": {
      "text/plain": [
       "'https://jovian.ai/trineshnk/f1-project'"
      ]
     },
     "execution_count": 42,
     "metadata": {},
     "output_type": "execute_result"
    }
   ],
   "source": [
    "jovian.commit(files = ['Formula1 Race Results.csv'], index=False)"
   ]
  },
  {
   "cell_type": "code",
   "execution_count": null,
   "metadata": {},
   "outputs": [],
   "source": []
  },
  {
   "cell_type": "markdown",
   "metadata": {},
   "source": [
    "## Conclusion\n",
    "1. Scrapped Formula1 website [link here](https://formula1.com/en/results.html) for race results using Requests and BeautifulSoup4\n",
    "2. Built functions such as get_race_results(), get_all_data(), and many other helper functions to scrape race titles, dates, winners, cars name, laps and race finish time\n",
    "3. Stored data consisting of 1080 rows x 7 columns into a file 'Formula1 Race Results.csv'"
   ]
  },
  {
   "cell_type": "markdown",
   "metadata": {},
   "source": [
    "## Future work\n",
    "* We can extract driver standings & constructor standing in the upcoming web scrapping project\n",
    "* The same data can be used to data analysis of the performance of all F1 teams and drivers\n"
   ]
  },
  {
   "cell_type": "markdown",
   "metadata": {},
   "source": [
    "## References"
   ]
  },
  {
   "cell_type": "markdown",
   "metadata": {},
   "source": [
    "1. Formula1 official website: https://www.formula1.com/en/results.html/drivers.html\n",
    "2. Jovian tutorial videos: https://jovian.ai/\n",
    "3. *Wikipedia* :https://en.wikipedia.org/wiki/Formula_One"
   ]
  },
  {
   "cell_type": "code",
   "execution_count": null,
   "metadata": {},
   "outputs": [
    {
     "data": {
      "application/javascript": [
       "window.require && require([\"base/js/namespace\"],function(Jupyter){Jupyter.notebook.save_checkpoint()})"
      ],
      "text/plain": [
       "<IPython.core.display.Javascript object>"
      ]
     },
     "metadata": {},
     "output_type": "display_data"
    }
   ],
   "source": [
    "jovian.commit(project='F1 Project')"
   ]
  },
  {
   "cell_type": "code",
   "execution_count": null,
   "metadata": {},
   "outputs": [],
   "source": []
  },
  {
   "cell_type": "code",
   "execution_count": null,
   "metadata": {},
   "outputs": [],
   "source": []
  },
  {
   "cell_type": "code",
   "execution_count": null,
   "metadata": {},
   "outputs": [],
   "source": []
  },
  {
   "cell_type": "code",
   "execution_count": null,
   "metadata": {},
   "outputs": [],
   "source": []
  }
 ],
 "metadata": {
  "kernelspec": {
   "display_name": "Python 3 (ipykernel)",
   "language": "python",
   "name": "python3"
  },
  "language_info": {
   "codemirror_mode": {
    "name": "ipython",
    "version": 3
   },
   "file_extension": ".py",
   "mimetype": "text/x-python",
   "name": "python",
   "nbconvert_exporter": "python",
   "pygments_lexer": "ipython3",
   "version": "3.9.6"
  }
 },
 "nbformat": 4,
 "nbformat_minor": 2
}
